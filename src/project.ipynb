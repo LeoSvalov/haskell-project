{
 "cells": [
  {
   "cell_type": "markdown",
   "metadata": {},
   "source": [
    "This is haskell project jupyter notebook"
   ]
  },
  {
   "cell_type": "code",
   "execution_count": 1,
   "metadata": {},
   "outputs": [
    {
     "data": {
      "text/plain": []
     },
     "metadata": {},
     "output_type": "display_data"
    }
   ],
   "source": [
    ":! stack install cassava"
   ]
  },
  {
   "cell_type": "code",
   "execution_count": 4,
   "metadata": {},
   "outputs": [
    {
     "data": {
      "text/html": [
       "<style>/* Styles used for the Hoogle display in the pager */\n",
       ".hoogle-doc {\n",
       "display: block;\n",
       "padding-bottom: 1.3em;\n",
       "padding-left: 0.4em;\n",
       "}\n",
       ".hoogle-code {\n",
       "display: block;\n",
       "font-family: monospace;\n",
       "white-space: pre;\n",
       "}\n",
       ".hoogle-text {\n",
       "display: block;\n",
       "}\n",
       ".hoogle-name {\n",
       "color: green;\n",
       "font-weight: bold;\n",
       "}\n",
       ".hoogle-head {\n",
       "font-weight: bold;\n",
       "}\n",
       ".hoogle-sub {\n",
       "display: block;\n",
       "margin-left: 0.4em;\n",
       "}\n",
       ".hoogle-package {\n",
       "font-weight: bold;\n",
       "font-style: italic;\n",
       "}\n",
       ".hoogle-module {\n",
       "font-weight: bold;\n",
       "}\n",
       ".hoogle-class {\n",
       "font-weight: bold;\n",
       "}\n",
       ".get-type {\n",
       "color: green;\n",
       "font-weight: bold;\n",
       "font-family: monospace;\n",
       "display: block;\n",
       "white-space: pre-wrap;\n",
       "}\n",
       ".show-type {\n",
       "color: green;\n",
       "font-weight: bold;\n",
       "font-family: monospace;\n",
       "margin-left: 1em;\n",
       "}\n",
       ".mono {\n",
       "font-family: monospace;\n",
       "display: block;\n",
       "}\n",
       ".err-msg {\n",
       "color: red;\n",
       "font-style: italic;\n",
       "font-family: monospace;\n",
       "white-space: pre;\n",
       "display: block;\n",
       "}\n",
       "#unshowable {\n",
       "color: red;\n",
       "font-weight: bold;\n",
       "}\n",
       ".err-msg.in.collapse {\n",
       "padding-top: 0.7em;\n",
       "}\n",
       ".highlight-code {\n",
       "white-space: pre;\n",
       "font-family: monospace;\n",
       "}\n",
       ".suggestion-warning { \n",
       "font-weight: bold;\n",
       "color: rgb(200, 130, 0);\n",
       "}\n",
       ".suggestion-error { \n",
       "font-weight: bold;\n",
       "color: red;\n",
       "}\n",
       ".suggestion-name {\n",
       "font-weight: bold;\n",
       "}\n",
       "</style><div class=\"suggestion-name\" style=\"clear:both;\">Unused LANGUAGE pragma</div><div class=\"suggestion-row\" style=\"float: left;\"><div class=\"suggestion-warning\">Found:</div><div class=\"highlight-code\" id=\"haskell\">{-# LANGUAGE DeriveGeneric #-}</div></div><div class=\"suggestion-row\" style=\"float: left;\"><div class=\"suggestion-warning\">Why Not:</div><div class=\"highlight-code\" id=\"haskell\"></div></div>"
      ],
      "text/plain": [
       "Line 1: Unused LANGUAGE pragma\n",
       "Found:\n",
       "{-# LANGUAGE DeriveGeneric #-}\n",
       "Why not:"
      ]
     },
     "metadata": {},
     "output_type": "display_data"
    }
   ],
   "source": [
    "{-# LANGUAGE DeriveGeneric #-}\n",
    "\n",
    "import Control.Applicative\n",
    "import qualified Data.ByteString.Lazy as BL\n",
    "import Data.Csv\n",
    "import GHC.Generics (Generic)\n",
    "import qualified Data.Vector as V"
   ]
  },
  {
   "cell_type": "code",
   "execution_count": 5,
   "metadata": {},
   "outputs": [],
   "source": [
    "\n",
    "data Player = Player{\n",
    "    player_id :: !Int, \n",
    "    name  :: !String, \n",
    "    role  :: !String, \n",
    "    acted_as_sweeper :: !String,  -- :: !Int \n",
    "    diving_save  :: !String, -- :: !Int \n",
    "    goals_conceded :: !String, -- :: !Int \n",
    "    minutes_played :: !String, -- :: !Int \n",
    "    punches :: !String,\n",
    "    saves :: !String, -- :: !Int \n",
    "    saves_inside_box :: !String,  --  :: !Int \n",
    "    throws  :: !String, -- :: !Int \n",
    "    accurate_passes :: !String, --  :: !Int \n",
    "    assists :: !String, --  :: !Int \n",
    "    chances_created :: !String, --  :: !Int \n",
    "    goals :: !String,\n",
    "    pass_success :: !String,  -- :: !Int \n",
    "    total_shots  :: !String, -- :: !Int \n",
    "    blocked_shots :: !String, --  :: !Int \n",
    "    shot_accuracy  :: !String,\n",
    "    shot_off_target :: !String, -- :: !Int \n",
    "    shot_on_target :: !String, --  :: !Int \n",
    "    shots_woodwork :: !String, -- :: !Int \n",
    "    accurate_long_balls  :: !String, -- :: !Int \n",
    "    crosses,key_passes :: !String, --  :: !Int \n",
    "    long_balls :: !String, --  :: !Int \n",
    "    passes  :: !String, -- :: !Int \n",
    "    touches :: !String, -- :: !Int \n",
    "    aerials_lost :: !String, -- :: !Int \n",
    "    aerials_won :: !String, -- :: !Int \n",
    "    clearances :: !String, -- :: !Int \n",
    "    dispossessed :: !String, -- :: !Int \n",
    "    dribbles_attempted :: !String, --  :: !Int \n",
    "    dribbles_succeeded :: !String, -- :: !Int \n",
    "    duels_lost  :: !String, -- :: !Int \n",
    "    duels_won :: !String, -- :: !Int \n",
    "    fouls :: !String, -- :: !Int \n",
    "    interceptions :: !String, -- :: !Int \n",
    "    recoveries  :: !String, -- :: !Int \n",
    "    tackles_attempted :: !String, -- :: !Int \n",
    "    tackles_succeeded :: !String, -- :: !Int \n",
    "    was_fouled :: !String, -- :: !Int \n",
    "    is_a_sub :: !String, -- :: !Int \n",
    "    was_subbed :: !String, -- :: !Int \n",
    "    yellow_card :: !String, -- :: !Int \n",
    "    red_card :: !String, -- :: !Int \n",
    "    rating :: !String -- :: !Int \n",
    "    }  deriving (Generic, Show)\n",
    "\n",
    "instance FromNamedRecord Player\n",
    "instance ToNamedRecord Player\n",
    "instance DefaultOrdered Player\n"
   ]
  },
  {
   "cell_type": "markdown",
   "metadata": {},
   "source": [
    "decodeByName returns either string with error or tuple (header, vector) <br>\n",
    "I need only vector, so if error occured -> empty vector"
   ]
  },
  {
   "cell_type": "code",
   "execution_count": 35,
   "metadata": {},
   "outputs": [],
   "source": [
    "csvData <- BL.readFile \"/Users/levsvalov/code_workspace/Spring2021/haskell/project/data/SoccerPlayersData.csv\"\n",
    "dataset = either (const V.empty) snd (decodeBayName csvData)"
   ]
  },
  {
   "cell_type": "code",
   "execution_count": 37,
   "metadata": {},
   "outputs": [
    {
     "data": {
      "text/html": [
       "<style>/* Styles used for the Hoogle display in the pager */\n",
       ".hoogle-doc {\n",
       "display: block;\n",
       "padding-bottom: 1.3em;\n",
       "padding-left: 0.4em;\n",
       "}\n",
       ".hoogle-code {\n",
       "display: block;\n",
       "font-family: monospace;\n",
       "white-space: pre;\n",
       "}\n",
       ".hoogle-text {\n",
       "display: block;\n",
       "}\n",
       ".hoogle-name {\n",
       "color: green;\n",
       "font-weight: bold;\n",
       "}\n",
       ".hoogle-head {\n",
       "font-weight: bold;\n",
       "}\n",
       ".hoogle-sub {\n",
       "display: block;\n",
       "margin-left: 0.4em;\n",
       "}\n",
       ".hoogle-package {\n",
       "font-weight: bold;\n",
       "font-style: italic;\n",
       "}\n",
       ".hoogle-module {\n",
       "font-weight: bold;\n",
       "}\n",
       ".hoogle-class {\n",
       "font-weight: bold;\n",
       "}\n",
       ".get-type {\n",
       "color: green;\n",
       "font-weight: bold;\n",
       "font-family: monospace;\n",
       "display: block;\n",
       "white-space: pre-wrap;\n",
       "}\n",
       ".show-type {\n",
       "color: green;\n",
       "font-weight: bold;\n",
       "font-family: monospace;\n",
       "margin-left: 1em;\n",
       "}\n",
       ".mono {\n",
       "font-family: monospace;\n",
       "display: block;\n",
       "}\n",
       ".err-msg {\n",
       "color: red;\n",
       "font-style: italic;\n",
       "font-family: monospace;\n",
       "white-space: pre;\n",
       "display: block;\n",
       "}\n",
       "#unshowable {\n",
       "color: red;\n",
       "font-weight: bold;\n",
       "}\n",
       ".err-msg.in.collapse {\n",
       "padding-top: 0.7em;\n",
       "}\n",
       ".highlight-code {\n",
       "white-space: pre;\n",
       "font-family: monospace;\n",
       "}\n",
       ".suggestion-warning { \n",
       "font-weight: bold;\n",
       "color: rgb(200, 130, 0);\n",
       "}\n",
       ".suggestion-error { \n",
       "font-weight: bold;\n",
       "color: red;\n",
       "}\n",
       ".suggestion-name {\n",
       "font-weight: bold;\n",
       "}\n",
       "</style><span class='get-type'>dataset :: forall a. FromNamedRecord a => Vector a</span>"
      ],
      "text/plain": [
       "dataset :: forall a. FromNamedRecord a => Vector a"
      ]
     },
     "metadata": {},
     "output_type": "display_data"
    }
   ],
   "source": [
    ":t dataset"
   ]
  },
  {
   "cell_type": "code",
   "execution_count": 81,
   "metadata": {},
   "outputs": [],
   "source": [
    "traverse = V.map (\\player -> putStrLn $ name player ++ \",\" ++ show(player_id player)) "
   ]
  },
  {
   "cell_type": "code",
   "execution_count": 82,
   "metadata": {},
   "outputs": [
    {
     "data": {
      "text/plain": [
       "Name, ID"
      ]
     },
     "metadata": {},
     "output_type": "display_data"
    },
    {
     "data": {
      "text/plain": [
       "Adrian,169756\n",
       "James Milner,38807\n",
       "Sadio Mané,303339\n",
       "Alisson Becker,319784\n",
       "Trent Alexander-Arnold,760712\n",
       "Joseph Gomez,568571\n",
       "Virgil van Dijk,209405\n",
       "Andrew Robertson,357880\n",
       "Jordan Henderson,156008\n",
       "Fabinho,359188"
      ]
     },
     "metadata": {},
     "output_type": "display_data"
    }
   ],
   "source": [
    "putStrLn \"Name, ID\"\n",
    "traverse10 $ V.take 10 dataset"
   ]
  },
  {
   "cell_type": "code",
   "execution_count": null,
   "metadata": {},
   "outputs": [],
   "source": []
  }
 ],
 "metadata": {
  "kernelspec": {
   "display_name": "Haskell",
   "language": "haskell",
   "name": "haskell"
  },
  "language_info": {
   "codemirror_mode": "ihaskell",
   "file_extension": ".hs",
   "mimetype": "text/x-haskell",
   "name": "haskell",
   "pygments_lexer": "Haskell",
   "version": "8.10.4"
  }
 },
 "nbformat": 4,
 "nbformat_minor": 4
}
